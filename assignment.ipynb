{
  "cells": [
    {
      "cell_type": "code",
      "execution_count": 10,
      "metadata": {
        "colab": {
          "base_uri": "https://localhost:8080/"
        },
        "id": "zBXolgHPAfWi",
        "outputId": "77c3f621-3294-4fce-a597-3cd9ce6ab65f"
      },
      "outputs": [
        {
          "name": "stdout",
          "output_type": "stream",
          "text": [
            "Give a string :icici\n",
            "icici is a palindrome.\n"
          ]
        }
      ],
      "source": [
        "#to check if a string is a palindrome\n",
        "string = input(\"Give a string :\")\n",
        "reverse = string[::-1]\n",
        "if string==reverse:\n",
        "    print(f\"{string} is a palindrome.\")\n",
        "else:\n",
        "    print(f\"{string} is not a palindrome.\")\n"
      ]
    },
    {
      "cell_type": "code",
      "execution_count": 11,
      "metadata": {
        "colab": {
          "base_uri": "https://localhost:8080/"
        },
        "id": "EmMNjUMhFLCU",
        "outputId": "05c56445-1ae0-4e8b-a1aa-ea8212457b2d"
      },
      "outputs": [
        {
          "name": "stdout",
          "output_type": "stream",
          "text": [
            "Give a number :6\n",
            "factorial of given number is 720\n"
          ]
        }
      ],
      "source": [
        "#to find factorial of a number\n",
        "number = int(input(\"Give a number :\"))\n",
        "fact = 1\n",
        "for i in range(1,number+1):\n",
        "    fact *= i\n",
        "print(f\"factorial of given number is {fact}\")"
      ]
    },
    {
      "cell_type": "code",
      "execution_count": 12,
      "metadata": {
        "colab": {
          "base_uri": "https://localhost:8080/"
        },
        "id": "2GfBftjzFK-P",
        "outputId": "daf11ab5-891d-4552-9899-f4af655a4181"
      },
      "outputs": [
        {
          "name": "stdout",
          "output_type": "stream",
          "text": [
            "Enter a list of numbers:12 3 45 56 84 5 26 38\n",
            "84 is the largest.\n"
          ]
        }
      ],
      "source": [
        "#to find the largest element in list\n",
        "List = input(\"Enter a list of numbers:\").split()\n",
        "largest_element = max(List)\n",
        "print(f\"{largest_element} is the largest.\")"
      ]
    },
    {
      "cell_type": "code",
      "execution_count": 13,
      "metadata": {
        "colab": {
          "base_uri": "https://localhost:8080/"
        },
        "id": "JznwM0vKFK50",
        "outputId": "83eefd2c-a824-491d-b0e5-7b48ac79b95b"
      },
      "outputs": [
        {
          "name": "stdout",
          "output_type": "stream",
          "text": [
            "Give a string :datascience\n",
            "ecneicsatad is a reverse of given string.\n"
          ]
        }
      ],
      "source": [
        "#to reverse a string\n",
        "string = input(\"Give a string :\")\n",
        "reverse = string[::-1]\n",
        "print(f\"{reverse} is a reverse of given string.\")"
      ]
    },
    {
      "cell_type": "code",
      "execution_count": 14,
      "metadata": {
        "colab": {
          "base_uri": "https://localhost:8080/"
        },
        "id": "-FS2Yz9eFKyr",
        "outputId": "ee68ece4-c2fd-4754-f9c8-86ffe72ad1e3"
      },
      "outputs": [
        {
          "name": "stdout",
          "output_type": "stream",
          "text": [
            "Enter a list :2 3 4 2 6 4 7 4 9 8 5 4 7 5 2 1\n",
            "{'2': 3, '3': 1, '4': 4, '6': 1, '7': 2, '9': 1, '8': 1, '5': 2, '1': 1}\n"
          ]
        }
      ],
      "source": [
        "# to count frequency of each element in list\n",
        "list = input(\"Enter a list :\").split()\n",
        "freq = {}\n",
        "for i in list:\n",
        "    if i in freq:\n",
        "        freq[i] += 1\n",
        "    else:\n",
        "        freq[i]=1\n",
        "print(freq)"
      ]
    },
    {
      "cell_type": "code",
      "execution_count": 15,
      "metadata": {
        "colab": {
          "base_uri": "https://localhost:8080/"
        },
        "id": "8qwCiPwGFKuj",
        "outputId": "92e6d295-2c7e-4681-e535-b56b8a7b4090"
      },
      "outputs": [
        {
          "name": "stdout",
          "output_type": "stream",
          "text": [
            "Enter a number:23\n",
            "23 is a prime\n"
          ]
        }
      ],
      "source": [
        "# check a number is prime or not\n",
        "number = int(input(\"Enter a number:\"))\n",
        "prime = True\n",
        "if number<=1:\n",
        "    prime = False\n",
        "if number>1:\n",
        "    for i in range(2,(number//2)+1):\n",
        "        if (number%i==0):\n",
        "            prime = False\n",
        "            break\n",
        "        else:\n",
        "            prime\n",
        "if prime:\n",
        "    print(f\"{number} is a prime\")\n",
        "else:\n",
        "    print(f\"{number} is not a prime.\")"
      ]
    },
    {
      "cell_type": "code",
      "execution_count": 16,
      "metadata": {
        "colab": {
          "base_uri": "https://localhost:8080/"
        },
        "id": "beeKq1MFFKoJ",
        "outputId": "255cc9c8-08a4-446e-c678-39fd00320eb9"
      },
      "outputs": [
        {
          "name": "stdout",
          "output_type": "stream",
          "text": [
            "enter elements seperated by spaces:2 3 4 5 6 3 4 7 8 9 \n",
            "enter elements seperated by spaces:3 5 6 7 18 15 15 8 9\n",
            "{'3', '8', '7', '5', '6', '9'} - the common elements between given two lists.\n"
          ]
        }
      ],
      "source": [
        "# to find the common elements between two lists.\n",
        "list1 = input(\"enter elements seperated by spaces:\").split()\n",
        "list2 = input(\"enter elements seperated by spaces:\").split()\n",
        "s1 = set(list1)\n",
        "s2 = set(list2)\n",
        "s3 = s1.intersection(s2)\n",
        "print(f\"{s3} - the common elements between given two lists.\")"
      ]
    },
    {
      "cell_type": "code",
      "execution_count": 17,
      "metadata": {
        "colab": {
          "base_uri": "https://localhost:8080/"
        },
        "id": "vuN_NT1vFKeF",
        "outputId": "02ebfa6c-116e-4d7d-f6bf-c3d954452afd"
      },
      "outputs": [
        {
          "name": "stdout",
          "output_type": "stream",
          "text": [
            "enter elements seperated by spaces:23 3 45 73 17 39 56 75 \n",
            "73 is the second largest number in a list.\n"
          ]
        }
      ],
      "source": [
        "# to find the second largest number in a list\n",
        "list = input(\"enter elements seperated by spaces:\").split()\n",
        "list1 = sorted(set(list))\n",
        "second_largest = list1[-2]\n",
        "print(f\"{second_largest} is the second largest number in a list.\")\n"
      ]
    },
    {
      "cell_type": "code",
      "execution_count": 18,
      "metadata": {
        "colab": {
          "base_uri": "https://localhost:8080/"
        },
        "id": "UIYrhIAhFKMa",
        "outputId": "3c376649-a148-475b-d087-7c31ffe94bf1"
      },
      "outputs": [
        {
          "name": "stdout",
          "output_type": "stream",
          "text": [
            "Enter elements seperated by spaces:2 3 4 3 6 5 7 5 3 9 8 2 1 3 2\n",
            "['2', '3', '4', '3', '6', '5', '7', '5', '3', '9', '8', '2', '1', '3', '2']\n",
            "{'4', '3', '8', '2', '5', '7', '6', '1', '9'}\n"
          ]
        }
      ],
      "source": [
        "#to remove duplicates in a list.\n",
        "original_list = input(\"Enter elements seperated by spaces:\").split()\n",
        "print(original_list)\n",
        "new = set(original_list)\n",
        "print(new)"
      ]
    },
    {
      "cell_type": "code",
      "execution_count": 19,
      "metadata": {
        "colab": {
          "base_uri": "https://localhost:8080/"
        },
        "id": "WJtr8ABiGav7",
        "outputId": "812b52f0-4357-4432-81d1-748b355d5116"
      },
      "outputs": [
        {
          "name": "stdout",
          "output_type": "stream",
          "text": [
            "Enter a word: abid\n",
            "there are 2 vowels in given word.\n"
          ]
        }
      ],
      "source": [
        "# to counting vowels in word\n",
        "word = input(\"Enter a word: \")\n",
        "count = 0\n",
        "vowels = ['a','e','i','o','u','A','E','I','O','U']\n",
        "for i in word:\n",
        "    if i in vowels:\n",
        "        count += 1\n",
        "print(f\"there are {count} vowels in given word.\")\n"
      ]
    },
    {
      "cell_type": "code",
      "execution_count": 20,
      "metadata": {
        "colab": {
          "base_uri": "https://localhost:8080/"
        },
        "id": "k0KL-vm7Gaoa",
        "outputId": "27a52c83-1276-4088-e2ed-fff180b49612"
      },
      "outputs": [
        {
          "name": "stdout",
          "output_type": "stream",
          "text": [
            "Enter a string: datascientist\n",
            "Enter a character in the above string: i\n",
            "the number of Occurences of i in string is 2. \n"
          ]
        }
      ],
      "source": [
        "# to count the number of Occurrences of a character in a string\n",
        "word = input(\"Enter a string: \")\n",
        "char = input(\"Enter a character in the above string: \")\n",
        "occurrences = word.count(char)\n",
        "print(f\"the number of Occurences of {char} in string is {occurrences}. \")\n"
      ]
    },
    {
      "cell_type": "code",
      "execution_count": 21,
      "metadata": {
        "colab": {
          "base_uri": "https://localhost:8080/"
        },
        "id": "ratO3h3VG-3D",
        "outputId": "77c45b8e-1873-43e9-a224-81009a5310ad"
      },
      "outputs": [
        {
          "name": "stdout",
          "output_type": "stream",
          "text": [
            "enter elements seperated by spaces:23 71 52 38 19 67 97 56\n",
            "the minimum number in the given list is 97\n"
          ]
        }
      ],
      "source": [
        "#to find the maximum number in a list.\n",
        "list = input(\"enter elements seperated by spaces:\").split()\n",
        "max_num = max(list)\n",
        "print(f\"the minimum number in the given list is {max_num}\")\n",
        "\n"
      ]
    },
    {
      "cell_type": "code",
      "execution_count": 22,
      "metadata": {
        "colab": {
          "base_uri": "https://localhost:8080/"
        },
        "id": "JcxYie_5G-zy",
        "outputId": "28230915-4df0-4b39-9e4d-bf7c62d80ea4"
      },
      "outputs": [
        {
          "name": "stdout",
          "output_type": "stream",
          "text": [
            "enter elements seperated by spaces:2 3 4 5 34 64 7 86 34\n",
            "the minimum number in the given list is 2\n"
          ]
        }
      ],
      "source": [
        "#to find the minimum number in a list.\n",
        "list = input(\"enter elements seperated by spaces:\").split()\n",
        "min_num = min(list)\n",
        "print(f\"the minimum number in the given list is {min_num}\")\n"
      ]
    },
    {
      "cell_type": "code",
      "execution_count": 23,
      "metadata": {
        "colab": {
          "base_uri": "https://localhost:8080/"
        },
        "id": "1c7htSHDG-x7",
        "outputId": "1d41d3d7-40ae-48c5-f6d9-9e8487c2c9e7"
      },
      "outputs": [
        {
          "name": "stdout",
          "output_type": "stream",
          "text": [
            "Enter a number:34\n",
            "Enter a number:87\n",
            "Enter a number:46\n",
            "34 is the smallest number.\n"
          ]
        }
      ],
      "source": [
        "# smallest number among 3 numbers\n",
        "a=int(input(\"Enter a number:\"))\n",
        "b=int(input(\"Enter a number:\"))\n",
        "c=int(input(\"Enter a number:\"))\n",
        "d = min(a,b,c)\n",
        "print(d,\"is the smallest number.\")"
      ]
    },
    {
      "cell_type": "code",
      "execution_count": 24,
      "metadata": {
        "colab": {
          "base_uri": "https://localhost:8080/"
        },
        "id": "IrcjRCyKGajK",
        "outputId": "201a96f7-0bb0-4423-a3af-50da3df77bcd"
      },
      "outputs": [
        {
          "name": "stdout",
          "output_type": "stream",
          "text": [
            "Enter a number:7\n",
            "Square of given number is 49\n"
          ]
        }
      ],
      "source": [
        "# to calculate the square of a given number.\n",
        "num = int(input(\"Enter a number:\"))\n",
        "square = num * num\n",
        "print(f\"Square of given number is {square}\")"
      ]
    },
    {
      "cell_type": "code",
      "execution_count": 25,
      "metadata": {
        "colab": {
          "base_uri": "https://localhost:8080/"
        },
        "id": "KrRkj43wGaeQ",
        "outputId": "bbe4d213-dd94-4339-ec1f-ddc055ac767d"
      },
      "outputs": [
        {
          "name": "stdout",
          "output_type": "stream",
          "text": [
            "Enter a number:12\n",
            "Enter a number:15\n",
            "the lcm of given two numbers is 60\n"
          ]
        }
      ],
      "source": [
        "#to calculate lcm of given two numbers\n",
        "num1=int(input(\"Enter a number:\"))\n",
        "num2=int(input(\"Enter a number:\"))\n",
        "lcm = max(num1,num2)\n",
        "while True:\n",
        "    if lcm%num1 == 0 and lcm%num2 == 0:\n",
        "        break\n",
        "    lcm += 1\n",
        "print(f\"the lcm of given two numbers is {lcm}\")"
      ]
    },
    {
      "cell_type": "code",
      "execution_count": 4,
      "metadata": {
        "colab": {
          "base_uri": "https://localhost:8080/"
        },
        "id": "uPPP3Vs8BqUl",
        "outputId": "a2dd1c25-9e77-481f-a844-8bd2e585b845"
      },
      "outputs": [
        {
          "name": "stdout",
          "output_type": "stream",
          "text": [
            "Enter a string:abid\n",
            "copied string is abid\n"
          ]
        }
      ],
      "source": [
        "#to copy one string to another\n",
        "string1 = input(\"Enter a string:\")\n",
        "string2 = str(string1)\n",
        "print(f\"copied string is {string2}\")\n"
      ]
    },
    {
      "cell_type": "code",
      "execution_count": 7,
      "metadata": {
        "colab": {
          "base_uri": "https://localhost:8080/"
        },
        "id": "BH8lVc1-C5br",
        "outputId": "c20ff48d-c0d9-4828-d46a-e70bd80df5ba"
      },
      "outputs": [
        {
          "name": "stdout",
          "output_type": "stream",
          "text": [
            "Enter a string:abid\n",
            "Ascending order of given string: abdi\n"
          ]
        }
      ],
      "source": [
        "# to sort characters of a string in ascending order\n",
        "string1 = input(\"Enter a string:\")\n",
        "ascending =''.join(sorted(string1))\n",
        "print(f\"Ascending order of given string: {ascending}\")"
      ]
    },
    {
      "cell_type": "code",
      "execution_count": 26,
      "metadata": {
        "colab": {
          "base_uri": "https://localhost:8080/"
        },
        "id": "cSFPMFZkEYPf",
        "outputId": "26cd7f3d-7a01-47ff-ed3a-46d998b1d5f2"
      },
      "outputs": [
        {
          "name": "stdout",
          "output_type": "stream",
          "text": [
            "Enter a string:afroz\n",
            "descending order of given string: zrofa\n"
          ]
        }
      ],
      "source": [
        "# to sort characters of a string in descending order\n",
        "string1 = input(\"Enter a string:\")\n",
        "ascending =''.join(sorted(string1))\n",
        "descending = ascending[::-1]\n",
        "print(f\"descending order of given string: {descending}\")"
      ]
    },
    {
      "cell_type": "code",
      "execution_count": 9,
      "metadata": {
        "colab": {
          "base_uri": "https://localhost:8080/"
        },
        "id": "niYVifCBElBz",
        "outputId": "513c5839-ac4f-4d77-aada-27e5a3e02d8c"
      },
      "outputs": [
        {
          "name": "stdout",
          "output_type": "stream",
          "text": [
            "Enter a :23\n",
            "Enter b :46\n",
            "a = 46 b = 23\n"
          ]
        }
      ],
      "source": [
        "# swapping of 2 numbers without using temporary variable.\n",
        "a = int(input(\"Enter a :\"))\n",
        "b = int(input(\"Enter b :\"))\n",
        "a,b = b,a\n",
        "print(\"a =\",a,\"b =\",b)"
      ]
    },
    {
      "cell_type": "code",
      "execution_count": null,
      "metadata": {
        "id": "OtgpUT4lE8cY"
      },
      "outputs": [],
      "source": []
    }
  ],
  "metadata": {
    "colab": {
      "provenance": []
    },
    "kernelspec": {
      "display_name": "Python 3",
      "name": "python3"
    },
    "language_info": {
      "name": "python"
    }
  },
  "nbformat": 4,
  "nbformat_minor": 0
}
