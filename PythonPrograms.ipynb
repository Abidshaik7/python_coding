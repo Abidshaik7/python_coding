{
 "cells": [
  {
   "cell_type": "code",
   "execution_count": 120,
   "id": "8478490b-5f45-45b7-8c7b-a06a698c232e",
   "metadata": {},
   "outputs": [
    {
     "name": "stdin",
     "output_type": "stream",
     "text": [
      "Please enter your order: fish\n"
     ]
    },
    {
     "name": "stdout",
     "output_type": "stream",
     "text": [
      "your Nonveg order is fish . please wait, your order will be ready in 5min\n"
     ]
    }
   ],
   "source": [
    "#conditional statements practice session.\n",
    "#1\n",
    "veg_item = ['leafycurry','mushroom','paneer-65','aloo','paneer']\n",
    "nonveg_item =['prawns','fish','omlet','mutton','chicken']\n",
    "your_order = input(\"Please enter your order:\")\n",
    "if your_order in veg_item:\n",
    "    print('your Veg order is',your_order ,'. please wait, your order will be ready in 5min')\n",
    "elif your_order in nonveg_item:\n",
    "     print('your Nonveg order is',your_order,'. please wait, your order will be ready in 5min')\n",
    "else:\n",
    "     print('Item requested is not available, please select another item. Thank you.')\n",
    "    \n",
    "    "
   ]
  },
  {
   "cell_type": "code",
   "execution_count": 9,
   "id": "3cbe9c29-45f2-4ef0-922a-91aaee169744",
   "metadata": {},
   "outputs": [
    {
     "name": "stdin",
     "output_type": "stream",
     "text": [
      "Enter number of lines: 4\n"
     ]
    },
    {
     "name": "stdout",
     "output_type": "stream",
     "text": [
      "Square has 4 slides\n"
     ]
    }
   ],
   "source": [
    "#2 - to print no. of slides \n",
    "Lines = int(input('Enter number of lines:'))\n",
    "if Lines == 1:\n",
    "    print('A Line has only 1 slide')\n",
    "elif Lines == 2:\n",
    "    print('Circle has 2 slides')\n",
    "elif Lines == 3:\n",
    "    print('Triangle has 3 slides')\n",
    "elif Lines == 4:\n",
    "    print('Square has 4 slides')\n",
    "elif Lines == 5:\n",
    "    print('Pentagon has 5 slides')\n",
    "elif Lines == 6:\n",
    "    print('Hexagon has 6 slides')\n",
    "elif Lines == 7:\n",
    "    print('Septagon has 7 slides')\n",
    "elif Lines == 8:\n",
    "    print('Octagon has 8 slides')\n",
    "elif Lines == 9:\n",
    "    print('Nanogon has 9 slides')\n",
    "elif Lines == 10:\n",
    "    print('Decagon has 10 slides')    \n",
    "else:\n",
    "    print('Please Re-enter the number of lines.')\n",
    "    \n",
    "    "
   ]
  },
  {
   "cell_type": "code",
   "execution_count": 25,
   "id": "bb2bbcc9-2ba7-4f25-ad55-62dc1729a286",
   "metadata": {},
   "outputs": [
    {
     "name": "stdin",
     "output_type": "stream",
     "text": [
      "Enter a month : may\n"
     ]
    },
    {
     "name": "stdout",
     "output_type": "stream",
     "text": [
      "may has 31 days.\n"
     ]
    }
   ],
   "source": [
    "#3 - to print no. of days in a given month.\n",
    "month = input(\"Enter a month :\")\n",
    "list1 = ['january','march','may','july','august','october','december']\n",
    "list2 = ['april','june','september','november']\n",
    "if month in list1:\n",
    "    print(month,\"has 31 days.\")\n",
    "elif month in list2:\n",
    "    print(month,\"has 30 days.\")\n",
    "elif month=='february':\n",
    "    print(month,\"has 29 days.\")\n",
    "else:\n",
    "    print(\"please enter again.\")"
   ]
  },
  {
   "cell_type": "code",
   "execution_count": 37,
   "id": "95b85e67-278b-4c22-aa23-89ebecc020d4",
   "metadata": {},
   "outputs": [
    {
     "name": "stdin",
     "output_type": "stream",
     "text": [
      "Enter a year: 1500\n"
     ]
    },
    {
     "name": "stdout",
     "output_type": "stream",
     "text": [
      "1500 is not a Leap year.\n"
     ]
    }
   ],
   "source": [
    "#4 - Leap year or not\n",
    "year = int(input(\"Enter a year:\"))\n",
    "if (year%4==0 and year%100!=0)or(year%400==0):\n",
    "    print(year,\"is a Leap year.\")\n",
    "else:\n",
    "    print(year,\"is not a Leap year.\")\n",
    "    \n",
    "    "
   ]
  },
  {
   "cell_type": "code",
   "execution_count": 49,
   "id": "0ef2ce25-b2f5-48ca-ad6c-6fa2d3b5ae00",
   "metadata": {},
   "outputs": [
    {
     "name": "stdin",
     "output_type": "stream",
     "text": [
      "Enter a number: 23\n",
      "Enter a number: 45\n",
      "Enter a number: 12\n"
     ]
    },
    {
     "name": "stdout",
     "output_type": "stream",
     "text": [
      "45 is the maximum number.\n"
     ]
    }
   ],
   "source": [
    "#5 - Maximum number among 3 numbers\n",
    "a=int(input(\"Enter a number:\"))\n",
    "b=int(input(\"Enter a number:\"))\n",
    "c=int(input(\"Enter a number:\"))\n",
    "d = max(a,b,c)\n",
    "print(d,\"is the maximum number.\")\n",
    "    "
   ]
  },
  {
   "cell_type": "code",
   "execution_count": 114,
   "id": "85605d81-d8fe-4b5c-9084-7f687e7d490e",
   "metadata": {},
   "outputs": [
    {
     "name": "stdin",
     "output_type": "stream",
     "text": [
      "Enter a color: blue\n"
     ]
    },
    {
     "name": "stdout",
     "output_type": "stream",
     "text": [
      "Invalid.\n"
     ]
    }
   ],
   "source": [
    "#6 - Traffic signal\n",
    "color = input(\"Enter a color:\")\n",
    "if color == 'red':\n",
    "    print('Stop.')\n",
    "elif color == 'green':\n",
    "    print('Go.')\n",
    "elif color == 'yellow':\n",
    "    print('Wait.')\n",
    "else:\n",
    "    print('Invalid.')"
   ]
  },
  {
   "cell_type": "code",
   "execution_count": 71,
   "id": "d94e2369-776a-4e85-a4ae-6f1cc610e181",
   "metadata": {},
   "outputs": [
    {
     "name": "stdin",
     "output_type": "stream",
     "text": [
      "Enter a character: L\n"
     ]
    },
    {
     "name": "stdout",
     "output_type": "stream",
     "text": [
      "L is a consonant\n"
     ]
    }
   ],
   "source": [
    "#7 - To find given character is vowel or consonant.\n",
    "char = input(\"Enter a character:\")\n",
    "vowels = ['a','e','i','o','u','A','E','I','O','U']\n",
    "if char in vowels:\n",
    "    print(char,\"is a vowel.\")\n",
    "else:\n",
    "    print(char,\"is a consonant\")"
   ]
  },
  {
   "cell_type": "code",
   "execution_count": 73,
   "id": "7d1082c3-d69b-4c8a-921a-a53ea2a529f3",
   "metadata": {},
   "outputs": [
    {
     "name": "stdin",
     "output_type": "stream",
     "text": [
      "Enter a string: python\n"
     ]
    },
    {
     "name": "stdout",
     "output_type": "stream",
     "text": [
      "nohtyp\n"
     ]
    }
   ],
   "source": [
    "#8 - To reverse a string.\n",
    "String = input('Enter a string:')[::-1]\n",
    "print(String)"
   ]
  },
  {
   "cell_type": "code",
   "execution_count": 118,
   "id": "276913c3-3f0e-4ff9-93fd-c5e8c44c2692",
   "metadata": {},
   "outputs": [
    {
     "name": "stdin",
     "output_type": "stream",
     "text": [
      "Enter elements seperated by spaces: 2 3 1 3 5 2 6 4 7 8 3 4 2\n"
     ]
    },
    {
     "name": "stdout",
     "output_type": "stream",
     "text": [
      "['2', '3', '1', '3', '5', '2', '6', '4', '7', '8', '3', '4', '2']\n",
      "{'7', '1', '4', '8', '2', '5', '6', '3'}\n"
     ]
    }
   ],
   "source": [
    "#9 - to remove duplicates in a list.\n",
    "original_list = input(\"Enter elements seperated by spaces:\").split()\n",
    "print(original_list)\n",
    "new = set(original_list)\n",
    "print(new)\n",
    "\n",
    "\n"
   ]
  },
  {
   "cell_type": "code",
   "execution_count": 81,
   "id": "52bb0804-efeb-4694-8550-618f0e922db4",
   "metadata": {},
   "outputs": [
    {
     "name": "stdin",
     "output_type": "stream",
     "text": [
      "Enter a : 34\n",
      "Enter b : 76\n"
     ]
    },
    {
     "name": "stdout",
     "output_type": "stream",
     "text": [
      "a = 76 b = 34\n"
     ]
    }
   ],
   "source": [
    "#10 - swapping of 2 numbers without using temporary variable.\n",
    "a = int(input(\"Enter a :\"))\n",
    "b = int(input(\"Enter b :\"))\n",
    "a,b = b,a\n",
    "print(\"a =\",a,\"b =\",b)"
   ]
  },
  {
   "cell_type": "code",
   "execution_count": null,
   "id": "8a104fb7-bb45-490b-bf99-31eeee2ac7d4",
   "metadata": {},
   "outputs": [],
   "source": []
  }
 ],
 "metadata": {
  "kernelspec": {
   "display_name": "Python 3 (ipykernel)",
   "language": "python",
   "name": "python3"
  },
  "language_info": {
   "codemirror_mode": {
    "name": "ipython",
    "version": 3
   },
   "file_extension": ".py",
   "mimetype": "text/x-python",
   "name": "python",
   "nbconvert_exporter": "python",
   "pygments_lexer": "ipython3",
   "version": "3.12.4"
  }
 },
 "nbformat": 4,
 "nbformat_minor": 5
}
